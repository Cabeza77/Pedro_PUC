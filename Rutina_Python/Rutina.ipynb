{
 "cells": [
  {
   "cell_type": "code",
   "execution_count": null,
   "metadata": {
    "collapsed": false
   },
   "outputs": [],
   "source": [
    "import matplotlib.pyplot as plt\n",
    "import numpy as np\n",
    "from matplotlib import rcParams\n",
    "from matplotlib.colors import LogNorm    \n",
    "import RANSAC\n",
    "rcParams['font.family'] = 'serif'\n",
    "\n",
    "%matplotlib inline"
   ]
  },
  {
   "cell_type": "markdown",
   "metadata": {},
   "source": [
    "# Plane fit\n",
    "\n",
    "Se pretende determinar los parametros $A,B$ y $C$ de la ecuación del plano $Ax+By+Cz = 0$ que representa un plano dado un conjunto de puntos $\\{[x_{1},y_{1},z_{1}]...[x_{n},y_{n},z_{n}]\\}$ con el método de mínimos cuadrados combinado con RANSAC. La función a minimizar será la suma de las distancias de un punto con el plano."
   ]
  },
  {
   "cell_type": "markdown",
   "metadata": {},
   "source": [
    "Como método de visualizar el ajuste se implementa una función cuyo propósito es rotar los puntos de tal manera que el vector normal sea $[0,0,1]$, es decir, quede perpendicular al plano $xy$. Luego si el ajuste es óptimo, en el plot $xz$ e $yz$ los puntos debería aparecer alineados de modo que se aprecie que el disco está de visto \"edge-on\" y en el plot $xy$ se debería ver \"face-on\"."
   ]
  },
  {
   "cell_type": "code",
   "execution_count": null,
   "metadata": {
    "collapsed": false
   },
   "outputs": [],
   "source": [
    "def rotar_plano(A,B,C,points):\n",
    "    norm_vec = np.matrix([A,B,C])\n",
    "\n",
    "    alpha0 = -( np.pi/2 - np.arcsin(C/np.linalg.norm(norm_vec)))\n",
    "    if B>0:\n",
    "        phi0 = -np.arccos(A/np.linalg.norm([A,B])) \n",
    "    else:\n",
    "        phi0 = np.arccos(A/np.linalg.norm([A,B]))\n",
    "        \n",
    "    # Matriz de rotacion en torno al eje z\n",
    "    rot_z = np.matrix([[np.cos(phi0),-np.sin(phi0),0],[np.sin(phi0),np.cos(phi0),0],[0,0,1]])\n",
    "    # Matriz de rotacion en torno al eje Y\n",
    "    rot_y = np.matrix([[np.cos(alpha0),0,np.sin(alpha0)],[0,1,0],[-np.sin(alpha0),0,np.cos(alpha0)]])\n",
    "    rot_total = (rot_y*rot_z)\n",
    "    rot_points = (rot_total*points.T).A.T\n",
    "    rotA,rotB,rotC = (rot_total*norm_vec.T).A.T[0]\n",
    "    \n",
    "    return rotA,rotB,rotC,rot_points,rot_total\n",
    "\n",
    "def plot_sim(fig,ax,points,title,mod='points',a=[1,1,1],c=None,bins=None,recta=False,VectN=None,x_array=None):\n",
    "    \n",
    "    fig.suptitle(title, fontsize=20)\n",
    "    \n",
    "    if mod == \"histogram\":\n",
    "        ax01= ax[0].hist2d(points[:,0],points[:,1], bins=bins,norm=LogNorm())\n",
    "        ax02= ax[1].hist2d(points[:,0],points[:,2], bins=bins,norm=LogNorm())\n",
    "        ax03= ax[2].hist2d(points[:,1],points[:,2], bins=bins,norm=LogNorm())\n",
    "    elif mod == 'points':\n",
    "        ax[0].plot(points[:,0],points[:,1],c[0],ms=1,alpha=a[0])\n",
    "        ax[1].plot(points[:,0],points[:,2],c[1],ms=1,alpha=a[1])\n",
    "        ax[2].plot(points[:,1],points[:,2],c[2],ms=1,alpha=a[2])\n",
    "        \n",
    "    if recta:\n",
    "        ax[1].plot(x_array,-(VectN[0]*x_array)/VectN[2],'-k')\n",
    "        ax[2].plot(x_array,-(VectN[1]*x_array)/VectN[2],'-k')\n",
    "\n",
    "        \n",
    "    ax[0].set(xlabel='x', ylabel='y')\n",
    "    ax[0].minorticks_on()\n",
    "    \n",
    "    ax[1].set(xlabel='x', ylabel='z')\n",
    "    ax[1].minorticks_on()\n",
    "\n",
    "    ax[2].set(xlabel='y', ylabel='z')\n",
    "    ax[2].minorticks_on()"
   ]
  },
  {
   "cell_type": "markdown",
   "metadata": {},
   "source": [
    "## Fichero\n",
    "\n",
    "En esta parte se leen las carpetas que contienen los .dat, se extráen los archivos correspondientes a el disco primario y circumbinario. Luego se aplica la función para extraer la ecuaciones de los planos a cada archivo y es guardado en un archivo de texto donde los primeros tres números de cada fila corresponden a los parámetros $A, B, C$ del plano circumbinario y los últimos tres corresponden a los parámetros del disco primario. Se crearán tantanas filas como archivos .dat haya."
   ]
  },
  {
   "cell_type": "code",
   "execution_count": null,
   "metadata": {
    "collapsed": false,
    "scrolled": true
   },
   "outputs": [],
   "source": [
    "import glob\n",
    "\n",
    "aux = ['ecc000','ecc025','ecc075','REF']\n",
    "\n",
    "for element in aux:\n",
    "    simulacion = element\n",
    "\n",
    "    name_files_primary = glob.glob('/home/pedro/Proyecto_2/'+simulacion+'/xyzprimary*')\n",
    "    name_files_primary.sort()\n",
    "\n",
    "    name_files_circumbinary = glob.glob('/home/pedro/Proyecto_2/'+simulacion+'/xyzcircumbinary*')\n",
    "    name_files_circumbinary.sort()\n",
    "\n",
    "    filename = simulacion + '_plane_params.csv'\n",
    "    fil=open(filename,'w')\n",
    "\n",
    "    for i in range(len(name_files_primary)):\n",
    "        pfile=np.loadtxt(name_files_circumbinary[i])\n",
    "        pfile =np.array(pfile)\n",
    "        x_value = pfile[:,0]\n",
    "        y_value = pfile[:,1]\n",
    "        z_value = pfile[:,2]\n",
    "        circumbinary_points = np.stack([x_value,y_value,z_value],axis=1)\n",
    "\n",
    "        pfile=np.loadtxt(name_files_primary[i])\n",
    "        pfile =np.array(pfile)\n",
    "        x_value = pfile[:,0]\n",
    "        y_value = pfile[:,1]\n",
    "        z_value = pfile[:,2]\n",
    "        primary_points = np.stack([x_value,y_value,z_value],axis=1)\n",
    "\n",
    "        _,_,CvectN,_ = RANSAC.RANSAC_N(circumbinary_points,1000,3,1,80)\n",
    "        _,_,PvectN,_ = RANSAC.RANSAC_N(primary_points,1000,3,1,80)\n",
    "\n",
    "        print 'Simulación:',simulacion\n",
    "        print 'Vector normal plano circumbinario: [{0:1.4f}'.format(CvectN[0]),'{0:1.4f}'.format(CvectN[1]),'{0:1.4f}]'.format(CvectN[2])\n",
    "        print 'Vector normal plano primario: [{0:1.4f}'.format(PvectN[0]),'{0:1.4f}'.format(PvectN[1]),'{0:1.4f}]'.format(PvectN[2])\n",
    "        print '\\n'\n",
    "\n",
    "        fil.write(str(CvectN[0])+' '+str(CvectN[1])+' '+str(CvectN[2])+' '+\n",
    "                  str(PvectN[0])+' '+str(PvectN[1])+' '+str(PvectN[2])+'\\n')\n",
    "\n",
    "    fil.close()"
   ]
  },
  {
   "cell_type": "markdown",
   "metadata": {},
   "source": [
    "En esta última parte se leen los archivos generados y se grafica la evolución del ańgulo entre los vectores normales.\n"
   ]
  },
  {
   "cell_type": "code",
   "execution_count": null,
   "metadata": {
    "collapsed": false
   },
   "outputs": [],
   "source": [
    "aux = ['ecc000','ecc025','REF','ecc075']\n",
    "\n",
    "plt.figure()\n",
    "for element in aux:\n",
    "    pfile=np.loadtxt('./'+element+'_plane_params.csv')\n",
    "    pfile =np.array(pfile)\n",
    "    CvectN = np.stack(np.array([pfile[:,0],pfile[:,1],pfile[:,2]]),axis=1)\n",
    "    PvectN = np.stack(np.array([pfile[:,3],pfile[:,4],pfile[:,5]]),axis=1)\n",
    "    cos_angle = CvectN[:,0]*PvectN[:,0] + CvectN[:,1]*PvectN[:,1] + CvectN[:,2]*PvectN[:,2]\n",
    "    angle = np.degrees(np.arccos(cos_angle))\n",
    "    num = [50*(i+1) for i in range(6)]\n",
    "    \n",
    "    plt.plot(num,angle,'o-',label=element)\n",
    "    \n",
    "plt.xlabel('time',size=10)\n",
    "plt.ylabel('angle [degrees]',size=10)\n",
    "plt.legend(bbox_to_anchor=(1.05, 1), loc=2, borderaxespad=0.)\n",
    "plt.minorticks_on()\n"
   ]
  }
 ],
 "metadata": {
  "anaconda-cloud": {},
  "kernelspec": {
   "display_name": "Python [default]",
   "language": "python",
   "name": "python2"
  },
  "language_info": {
   "codemirror_mode": {
    "name": "ipython",
    "version": 2
   },
   "file_extension": ".py",
   "mimetype": "text/x-python",
   "name": "python",
   "nbconvert_exporter": "python",
   "pygments_lexer": "ipython2",
   "version": "2.7.12"
  }
 },
 "nbformat": 4,
 "nbformat_minor": 1
}
